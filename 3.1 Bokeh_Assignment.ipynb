{
  "nbformat": 4,
  "nbformat_minor": 0,
  "metadata": {
    "colab": {
      "provenance": []
    },
    "kernelspec": {
      "name": "python3",
      "display_name": "Python 3"
    },
    "language_info": {
      "name": "python"
    }
  },
  "cells": [
    {
      "cell_type": "markdown",
      "source": [
        "Q1. How can you create a Bokeh plot using Python code?"
      ],
      "metadata": {
        "id": "Gge7J9l9CEch"
      }
    },
    {
      "cell_type": "markdown",
      "source": [
        "Bokeh is a Python library for creating interactive visualizations for modern web browsers. To create a Bokeh plot using Python code, you need to import the bokeh.plotting module and use the figure function to create a plot object.\n",
        "\n",
        "Finally, you can use the show function to display the plot in a browser."
      ],
      "metadata": {
        "id": "ootXrzsXCMyh"
      }
    },
    {
      "cell_type": "code",
      "execution_count": null,
      "metadata": {
        "id": "NcSQYqQAB2cg"
      },
      "outputs": [],
      "source": [
        "# Import bokeh.plotting module\n",
        "from bokeh.plotting import figure, output_file, show"
      ]
    },
    {
      "cell_type": "markdown",
      "source": [
        "Q2. What are glyphs in Bokeh, and how can you add them to a Bokeh plot? Explain with an example."
      ],
      "metadata": {
        "id": "LK9iuST7CaTX"
      }
    },
    {
      "cell_type": "markdown",
      "source": [
        "Glyphs are visual shapes that can be displayed on a Bokeh plot. They can be associated with data columns from a Column DataSource object, which allows you to create interactive and dynamic plots. Bokeh offers a variety of glyphs, such as circles, lines, wedges, bars, etc.\n",
        "\n",
        "To add glyphs to a Bokeh plot, you need to use the glyph methods of the figure object. For example, if you want to plot circles, you can use the circle() method and pass the x and y coordinates of the circles as arguments. You can also customize the appearance of the glyphs by passing additional arguments, such as color, size, alpha, etc."
      ],
      "metadata": {
        "id": "XLbWfLnQCnjp"
      }
    },
    {
      "cell_type": "code",
      "source": [
        "# Import Bokeh modules\n",
        "from bokeh.plotting import figure, output_file, show\n",
        "\n",
        "# Create some sample data\n",
        "x = [1, 2, 3, 4, 5]\n",
        "y = [6, 7, 2, 4, 5]\n",
        "\n",
        "# Specify the output file name\n",
        "output_file(\"circle.html\")\n",
        "\n",
        "# Create a figure object\n",
        "p = figure(title=\"Circle Glyphs Example\")\n",
        "\n",
        "# Add circle glyphs to the figure\n",
        "p.circle(x, y, size=20, color=\"navy\", alpha=0.5)\n",
        "\n",
        "# Show the plot\n",
        "show(p)"
      ],
      "metadata": {
        "id": "avD0_pSvCxeb"
      },
      "execution_count": null,
      "outputs": []
    },
    {
      "cell_type": "markdown",
      "source": [
        "Q3. How can you customize the appearance of a Bokeh plot, including the axes, title, and legend?"
      ],
      "metadata": {
        "id": "XuSrAGqzDXo3"
      }
    },
    {
      "cell_type": "markdown",
      "source": [
        "There are many ways to customize the appearance of a Bokeh plot, including the axes, title, and legend. Here are some of the main steps:\n",
        "\n",
        "To change the overall theme of your plot, you can use one of the built-in themes or create your own custom theme.\n",
        "\n",
        "To resize your plot, you can use the plot_width and plot_height arguments when creating a figure.\n",
        "To change the lines and colors of your plot, you can use the line_color, line_width, fill_color, and fill_alpha properties of your glyphs.\n",
        "\n",
        "To customize the axes, you can use the xaxis and yaxis attributes of your figure to access their properties, such as axis_label, axis_line_color, major_tick_line_color, etc.\n",
        "\n",
        "To customize the title, you can use the title attribute of your figure to access its properties, such as text, text_font_size, text_color, etc.\n",
        "\n",
        "To customize the legend, you can use the legend attribute of your figure to access its properties, such as location, orientation, label_text_font_size, etc."
      ],
      "metadata": {
        "id": "iZUkNQvjER5R"
      }
    },
    {
      "cell_type": "markdown",
      "source": [
        "Q4. What is a Bokeh server, and how can you use it to create interactive plots that can be updated in\n",
        "real time?"
      ],
      "metadata": {
        "id": "-5i8Ix5LICMp"
      }
    },
    {
      "cell_type": "markdown",
      "source": [
        "A Bokeh server is a component of Bokeh that allows you to build interactive web applications that are connected to Python code running on a server. You can use it to create interactive plots that can be updated in real time by streaming data, visualizing large datasets, or building dashboards and apps with sophisticated interactions. To use a Bokeh server, you need to create Bokeh applications and serve them with a Bokeh server command or API."
      ],
      "metadata": {
        "id": "n5SQ0oPJIgUp"
      }
    },
    {
      "cell_type": "markdown",
      "source": [
        "Q5. How can you embed a Bokeh plot into a web page or dashboard using Flask or Django?"
      ],
      "metadata": {
        "id": "xd9nfXpvIrJi"
      }
    },
    {
      "cell_type": "markdown",
      "source": [
        "There are different ways to embed a Bokeh plot into a web page or dashboard using Flask or Django. One way is to use the bokeh.embed.components() function, which returns a script and a div tag that you can insert into your HTML template. Another way is to use the bokeh.embed.json_item() function, which returns a JSON object that you can parse and embed using JavaScript. A third way is to use the bokeh.embed.server_document() function, which returns a script tag that loads a Bokeh plot from a Bokeh server."
      ],
      "metadata": {
        "id": "QoQrcfQ2JULi"
      }
    },
    {
      "cell_type": "code",
      "source": [],
      "metadata": {
        "id": "YskTwknaDDim"
      },
      "execution_count": null,
      "outputs": []
    }
  ]
}